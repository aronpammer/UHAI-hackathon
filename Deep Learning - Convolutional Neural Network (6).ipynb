{
 "cells": [
  {
   "cell_type": "markdown",
   "metadata": {},
   "source": [
    "# Prediction of Breast Cancer from Mammogramm Images"
   ]
  },
  {
   "cell_type": "markdown",
   "metadata": {},
   "source": [
    "Our approach is mainly based on a very recent paper, published on 11 Janury 2018 (Chougrad, H., Zouaki, H., & Alheyane, O. (2018). Deep Convolutional Neural Networks for Breast Cancer Screening. Computer Methods and Programs in Biomedicine.) \n",
    "(https://www.sciencedirect.com/science/article/pii/S0169260717301451)\n",
    "In order to understand the signficant impact and background the Abstract and the Introduction part of this paper describes it in a very organized way.\n",
    "\n",
    "There are other recent studies regarding the topic as well which might be interesting to look at (these are the most relevant ones we build on): \n",
    "- Qiu Y, Yan S, Tan M, Cheng S, Liu H, Zheng B (2016) Computer-aided classification of mammographic masses using the deep learning technology: a preliminary study: \n",
    "- Jiao Z, Gao X, Wang Y, Li J (2016) A deep feature based framework for breast masses classification. Neurocomputing 197:221–231 \n",
    "- Computational mammography using deep neural networks\n",
    "- Probabilistic visual search for masses within mammography images using deep learning\n",
    "- https://www.researchgate.net/publication/320321443_Mammogram_Classification_using_Deep_Learning_Features\n",
    "\n"
   ]
  },
  {
   "cell_type": "markdown",
   "metadata": {},
   "source": [
    "# 0. Data Source"
   ]
  },
  {
   "cell_type": "markdown",
   "metadata": {},
   "source": [
    "CBIS DDSM (https://wiki.cancerimagingarchive.net/display/Public/CBIS-DDSM)\n",
    "(Curated Breast Imaging Subset of DDSM)\n",
    "\n",
    "- We used the Mass-Training ROI and Cropped Images (DICOM) folder\n",
    "- Contains 1317 images\n",
    "- Cropped Lesions"
   ]
  },
  {
   "cell_type": "markdown",
   "metadata": {},
   "source": [
    "# 1. Setting up the environment"
   ]
  },
  {
   "cell_type": "markdown",
   "metadata": {},
   "source": [
    "- We used AWS EC2 instance (AWS Ubuntu AMI, i2.xlarge - costs around 0.8 dollars)\n",
    "- We uploaded the mammogramm data to AWS S3\n",
    "- Used tutorials for setting the environenment: \n",
    "    - AWS Deep learning AMI: https://aws.amazon.com/blogs/machine-learning/get-started-with-deep-learning-using-the-aws-deep-learning-ami/\n",
    "    - Access Ubuntu machine from Windows: https://docs.aws.amazon.com/dlami/latest/devguide/setup-jupyter-configure-client-windows.html#setup-jupyter-win\n"
   ]
  },
  {
   "cell_type": "markdown",
   "metadata": {},
   "source": [
    "# 2. Importing the neccessary packages"
   ]
  },
  {
   "cell_type": "markdown",
   "metadata": {},
   "source": [
    "Importing Keras for building the convolutional neural network. Our code is based on mainly this tutorial: \n",
    "- Convolutional Neural Networks in Python with Keras: https://www.datacamp.com/community/tutorials/convolutional-neural-networks-python"
   ]
  },
  {
   "cell_type": "code",
   "execution_count": 1,
   "metadata": {},
   "outputs": [
    {
     "name": "stderr",
     "output_type": "stream",
     "text": [
      "/home/ubuntu/anaconda3/envs/tensorflow_p36/lib/python3.6/site-packages/h5py/__init__.py:36: FutureWarning: Conversion of the second argument of issubdtype from `float` to `np.floating` is deprecated. In future, it will be treated as `np.float64 == np.dtype(float).type`.\n",
      "  from ._conv import register_converters as _register_converters\n",
      "Using TensorFlow backend.\n",
      "/home/ubuntu/anaconda3/envs/tensorflow_p36/lib/python3.6/importlib/_bootstrap.py:219: RuntimeWarning: compiletime version 3.5 of module 'tensorflow.python.framework.fast_tensor_util' does not match runtime version 3.6\n",
      "  return f(*args, **kwds)\n"
     ]
    }
   ],
   "source": [
    "import keras"
   ]
  },
  {
   "cell_type": "markdown",
   "metadata": {},
   "source": [
    "### 2.1 Importing other packages (dicom is for importing medical images):"
   ]
  },
  {
   "cell_type": "markdown",
   "metadata": {},
   "source": [
    "There might be packages here which are not neccessary"
   ]
  },
  {
   "cell_type": "code",
   "execution_count": 2,
   "metadata": {},
   "outputs": [],
   "source": [
    "import os\n",
    "import pandas as pd\n",
    "import dicom \n",
    "from skimage import transform as tf\n",
    "import numpy as np\n",
    "np.random.seed(123)  # for reproducibility\n",
    "import h5py\n",
    "from keras.models import Sequential\n",
    "import numpy as np\n",
    "from keras.utils import to_categorical\n",
    "import matplotlib.pyplot as plt\n",
    "from sklearn.model_selection import train_test_split\n",
    "from keras.models import Sequential,Input,Model\n",
    "from keras.layers import Dense, Dropout, Flatten\n",
    "from keras.layers import Conv2D, MaxPooling2D\n",
    "from keras.layers.normalization import BatchNormalization\n",
    "from keras.layers.advanced_activations import LeakyReLU\n",
    "from keras.preprocessing.image import ImageDataGenerator\n",
    "from keras.applications.inception_v3 import InceptionV3\n",
    "from keras.preprocessing import image\n",
    "from keras.models import Model\n",
    "from keras.layers import Dense, GlobalAveragePooling2D\n",
    "from keras import backend as K"
   ]
  },
  {
   "cell_type": "markdown",
   "metadata": {},
   "source": [
    "# 3. Data Download from AWS to EC2"
   ]
  },
  {
   "cell_type": "markdown",
   "metadata": {},
   "source": [
    "In order to access data data from AWS EC2 instance:\n",
    "- first we uploaded it to AWS S3 then from there to EC2 (there must be easier ways to do it)\n",
    "- We need the access keys from our AWS accounts\n",
    "- Setting up the connections and accessing the bucket"
   ]
  },
  {
   "cell_type": "code",
   "execution_count": 5,
   "metadata": {},
   "outputs": [],
   "source": [
    "from boto.s3.connection import S3Connection\n",
    "from boto.s3.key import Key\n",
    "#aws_access_key_id = \n",
    "#aws_secret_access_key = \n",
    "conn = S3Connection(aws_access_key_id, aws_secret_access_key)\n",
    "mybucket = conn.get_bucket('uhai-storage')"
   ]
  },
  {
   "cell_type": "markdown",
   "metadata": {},
   "source": [
    "Downloading the files from S3 (http://boto.cloudhackers.com/en/latest/s3_tut.html), it had to be run only once."
   ]
  },
  {
   "cell_type": "code",
   "execution_count": 46,
   "metadata": {},
   "outputs": [],
   "source": [
    "#for i in mybucket.list():\n",
    "    #key_string = str(i.key)\n",
    "    #k = Key(mybucket,key_string)\n",
    "    #if key_string!=\"breast_cancer_images/\":\n",
    "        #k.get_contents_to_filename(str(key_string))\n",
    "    #print(key_string)\n",
    "    #i.get_contents_to_filename(str(k.key))"
   ]
  },
  {
   "cell_type": "markdown",
   "metadata": {},
   "source": [
    "# 4. Data Processing"
   ]
  },
  {
   "cell_type": "markdown",
   "metadata": {},
   "source": [
    "## 4.1 Data Conversion"
   ]
  },
  {
   "cell_type": "markdown",
   "metadata": {},
   "source": [
    "We transformed the DICOM images to numpy arrays for the model \n",
    "- https://www.datacamp.com/community/tutorials/convolutional-neural-networks-python\n",
    "- https://gist.github.com/somada141/8dd67a02e330a657cf9e"
   ]
  },
  {
   "cell_type": "code",
   "execution_count": 9,
   "metadata": {},
   "outputs": [],
   "source": [
    "target= \"breast_cancer_images\"\n",
    "\n",
    "f = {}      \n",
    "for filename in os.listdir(target):  \n",
    "    ds=dicom.read_file(os.path.join(target,filename), force=True)\n",
    "    ConstPixelDims = (int(ds.Rows), int(ds.Columns))\n",
    "    #print(os.path.join(root, name))\n",
    "    ArrayDicom = np.zeros(ConstPixelDims, dtype=ds.pixel_array.dtype)\n",
    "    #print(ArrayDicom.shape)\n",
    "    ArrayDicom = (ds.pixel_array/65535)*255  #converting the range of dicom pixel values to 255 grayscale\n",
    "    f[filename]=ArrayDicom"
   ]
  },
  {
   "cell_type": "markdown",
   "metadata": {},
   "source": [
    "## 4.2 Pulling image and response data together"
   ]
  },
  {
   "cell_type": "markdown",
   "metadata": {},
   "source": [
    "We imported the respnses/labels for the images whether the lesion is Benign or Malignant"
   ]
  },
  {
   "cell_type": "code",
   "execution_count": 10,
   "metadata": {},
   "outputs": [],
   "source": [
    "mycsv=pd.read_csv(\"mass_case_description_train_set_label.csv\", encoding=\"ascii\", engine='python')\n",
    "myarray=np.asarray(mycsv)\n",
    "mydict=mycsv.set_index('name').T.to_dict('list')"
   ]
  },
  {
   "cell_type": "markdown",
   "metadata": {},
   "source": [
    "Unifying the benign labels  and pulling together the x and y data into one dictionary"
   ]
  },
  {
   "cell_type": "code",
   "execution_count": null,
   "metadata": {},
   "outputs": [],
   "source": [
    "for key, value in mydict.items():\n",
    "    mydict[key] = value\n",
    "    if value == ['BENIGN_WITHOUT_CALLBACK']:\n",
    "        mydict[key] = ['BENIGN']\n",
    "        \n",
    "# Pulling together x and y\n",
    "for key, value in f.items():\n",
    "    if key in mydict.keys():\n",
    "        mydict[key].append(value)\n",
    "        \n",
    "for key, value in mydict.items():\n",
    "    if len(value)<2:\n",
    "        deletekey=key\n",
    "        print(mydict[key])\n",
    "\n",
    "# making sure that there are x and y data for each image\n",
    "if deletekey:\n",
    "    mydict.pop(deletekey, None)"
   ]
  },
  {
   "cell_type": "markdown",
   "metadata": {},
   "source": [
    "## 4.3 Final X and Y (response) numpy arrays and resizing them "
   ]
  },
  {
   "cell_type": "code",
   "execution_count": 12,
   "metadata": {},
   "outputs": [
    {
     "name": "stdout",
     "output_type": "stream",
     "text": [
      "['BENIGN']\n"
     ]
    },
    {
     "name": "stderr",
     "output_type": "stream",
     "text": [
      "/home/ubuntu/anaconda3/envs/tensorflow_p36/lib/python3.6/site-packages/skimage/transform/_warps.py:84: UserWarning: The default mode, 'constant', will be changed to 'reflect' in skimage 0.15.\n",
      "  warn(\"The default mode, 'constant', will be changed to 'reflect' in \"\n"
     ]
    }
   ],
   "source": [
    "arr2=np.asarray([value[1] for key, value in mydict.items()])\n",
    "Xdata=np.array([tf.resize(i, (139,139)) for i in arr2])\n",
    "Ydata=np.asarray([value[0] for key, value in mydict.items()])\n",
    "\n",
    "# Contrast Normalization----------------------------------\n",
    "Xdata=Xdata-np.mean(Xdata)"
   ]
  },
  {
   "cell_type": "markdown",
   "metadata": {},
   "source": [
    "# 5. Modelling"
   ]
  },
  {
   "cell_type": "markdown",
   "metadata": {},
   "source": [
    "## 5.1 Splitting the data into training and test set"
   ]
  },
  {
   "cell_type": "markdown",
   "metadata": {},
   "source": [
    "https://www.datacamp.com/community/tutorials/convolutional-neural-networks-python"
   ]
  },
  {
   "cell_type": "code",
   "execution_count": null,
   "metadata": {},
   "outputs": [],
   "source": [
    "#Train and Test set----------------------------\n",
    "train_X,test_X,train_Y,test_Y = train_test_split(Xdata, Ydata, test_size=0.2, random_state=13)\n",
    "\n",
    "# Analyzing------------------------------------------\n",
    "\n",
    "print('Training data shape : ', train_X.shape, train_Y.shape)\n",
    "print('Testing data shape : ', test_X.shape, test_Y.shape)\n",
    "\n",
    "classes = np.unique(train_Y)\n",
    "nClasses = len(classes)\n",
    "print('Total number of outputs : ', nClasses)\n",
    "print('Output classes : ', classes)\n",
    "\n",
    "plt.figure(figsize=[5,5])\n",
    "\n",
    "# Display the first image in training data\n",
    "plt.subplot(121)\n",
    "plt.imshow(train_X[0,:,:], cmap='gray')\n",
    "plt.title(\"Ground Truth : {}\".format(train_Y[0]))\n",
    "\n",
    "# Display the first image in testing data\n",
    "plt.subplot(122)\n",
    "plt.imshow(test_X[0,:,:], cmap='gray')\n",
    "plt.title(\"Ground Truth : {}\".format(test_Y[0]))"
   ]
  },
  {
   "cell_type": "markdown",
   "metadata": {},
   "source": [
    "## 5.3 Transforming the data to be able to feed it into the Neural Network"
   ]
  },
  {
   "cell_type": "markdown",
   "metadata": {},
   "source": [
    "- https://www.datacamp.com/community/tutorials/convolutional-neural-networks-python\n",
    "- https://stackoverflow.com/questions/46616020/how-to-change-number-of-channels-to-fine-tune-vgg16-net-in-keras"
   ]
  },
  {
   "cell_type": "code",
   "execution_count": null,
   "metadata": {},
   "outputs": [],
   "source": [
    "#Reshaping\n",
    "\n",
    "train_X = train_X.reshape(-1, 139,139, 1)\n",
    "test_X = test_X.reshape(-1, 139,139, 1)\n",
    "train_X.shape, test_X.shape\n",
    "\n",
    "\n",
    "# Repeating the channels 3 times to be be able to fit the predefined models\n",
    "\n",
    "train_X = np.tile(train_X, (1, 1, 3))\n",
    "test_X = np.tile(test_X, (1, 1, 3))\n",
    "\n",
    "#Converting to float and 0-1\n",
    "\n",
    "train_X = train_X.astype('float32')\n",
    "test_X = test_X.astype('float32')\n",
    "train_X = train_X / 255.\n",
    "test_X = test_X / 255.\n",
    "\n",
    "\n",
    "#One hot encoding\n",
    "\n",
    "#convert 'MALIGNANT' and 'BENIGN' to 1 and 0\n",
    "\n",
    "train_Y=1*(train_Y=='MALIGNANT')\n",
    "test_Y=1*(test_Y=='MALIGNANT')\n",
    "\n",
    "# Change the labels from categorical to one-hot encoding\n",
    "train_Y_one_hot = to_categorical(train_Y)\n",
    "test_Y_one_hot = to_categorical(test_Y)\n",
    "\n",
    "# Display the change for category label using one-hot encoding\n",
    "print('Original label:', train_Y[0])\n",
    "print('After conversion to one-hot:', train_Y_one_hot[0])"
   ]
  },
  {
   "cell_type": "markdown",
   "metadata": {},
   "source": [
    "## 5.4 Splitting the data to Training/Validation/Test set"
   ]
  },
  {
   "cell_type": "code",
   "execution_count": null,
   "metadata": {},
   "outputs": [],
   "source": [
    "train_X,valid_X,train_label,valid_label = train_test_split(train_X, train_Y_one_hot, test_size=0.2, random_state=13)"
   ]
  },
  {
   "cell_type": "markdown",
   "metadata": {},
   "source": [
    "## 5.5 Data Augmentation "
   ]
  },
  {
   "cell_type": "markdown",
   "metadata": {},
   "source": [
    "Here we followed a very similar real-time data augmentation to the paper we mentioned in the beginning \n",
    "- https://keras.io/preprocessing/image/\n",
    "- \"Deep learning models perform better when wehave large datasets. One very popular way to make our datasets\n",
    "bigger is data augmentation or jittering.\"- https://www.sciencedirect.com/science/article/pii/S0169260717301451\n",
    "-  width and height shifts with  0.2 prop\n",
    "- random rotation range of 0 – 40 degrees \n",
    "- shear range: 0.5\n",
    "- flipped the images horizontally \n",
    "- “fill mode” strategy for filling in newly created pixels (after a rotation or a width/height shift)\n",
    "(https://www.sciencedirect.com/science/article/pii/S0169260717301451)"
   ]
  },
  {
   "cell_type": "code",
   "execution_count": null,
   "metadata": {},
   "outputs": [],
   "source": [
    "datagen = ImageDataGenerator(\n",
    "    featurewise_center=True,\n",
    "    featurewise_std_normalization=True,\n",
    "    rotation_range=40,\n",
    "    width_shift_range=0.25,\n",
    "    height_shift_range=0.25,\n",
    "    shear_range=0.5,\n",
    "    zoom_range=[0.5, 1.5],\n",
    "    fill_mode='nearest',\n",
    "    horizontal_flip=True)\n",
    "\n",
    "\n",
    "datagen.fit(train_X)"
   ]
  },
  {
   "cell_type": "markdown",
   "metadata": {},
   "source": [
    "## 5.6 InceptionV3 Model "
   ]
  },
  {
   "cell_type": "markdown",
   "metadata": {},
   "source": [
    "### 5.6.1 Base Model"
   ]
  },
  {
   "cell_type": "code",
   "execution_count": null,
   "metadata": {},
   "outputs": [],
   "source": [
    "batch_size = 40\n",
    "epochs = 20\n",
    "num_classes = 2\n",
    "\n",
    "# create the base pre-trained model\n",
    "\n",
    "base_model = InceptionV3(weights='imagenet', include_top=False)"
   ]
  },
  {
   "cell_type": "markdown",
   "metadata": {},
   "source": [
    "### 5.6.2 Extending the model"
   ]
  },
  {
   "cell_type": "markdown",
   "metadata": {},
   "source": [
    "We used the code from here to modify the basic model: \n",
    "    https://keras.io/applications/ -> Fine-tune InceptionV3 on a new set of classes"
   ]
  },
  {
   "cell_type": "code",
   "execution_count": null,
   "metadata": {},
   "outputs": [],
   "source": [
    "# global spatial average pooling layer\n",
    "x = base_model.output\n",
    "x = GlobalAveragePooling2D()(x)\n",
    "# fully-connected layer\n",
    "x = Dense(1024, activation='relu')(x)\n",
    "# and a logistic layer -- let's say we have 2 classes\n",
    "predictions = Dense(2, activation='softmax')(x)\n",
    "\n",
    "# this is the model we will train\n",
    "model = Model(inputs=base_model.input, outputs=predictions)"
   ]
  },
  {
   "cell_type": "markdown",
   "metadata": {},
   "source": [
    "### 5.6.3 Fitting the model"
   ]
  },
  {
   "cell_type": "code",
   "execution_count": null,
   "metadata": {},
   "outputs": [],
   "source": [
    "# first: train only the top layers (which were randomly initialized)\n",
    "# i.e. freeze all convolutional InceptionV3 layers\n",
    "for layer in base_model.layers:\n",
    "    layer.trainable = False\n",
    "\n",
    "# compile the model (should be done *after* setting layers to non-trainable)\n",
    "model.compile(optimizer='rmsprop', loss='categorical_crossentropy')\n",
    "\n",
    "model.fit_generator(datagen.flow(train_X, train_label, batch_size=batch_size), validation_data=(valid_X, valid_label), steps_per_epoch=len(train_X) / batch_size, epochs=epochs)\n",
    "\n",
    "# at this point, the top layers are well trained and we can start fine-tuning\n",
    "# convolutional layers from inception V3. We will freeze the bottom N layers\n",
    "# and train the remaining top layers.\n",
    "\n",
    "# let's visualize layer names and layer indices to see how many layers\n",
    "# we should freeze:\n",
    "for i, layer in enumerate(base_model.layers):\n",
    "    print(i, layer.name)\n",
    "\n",
    "# we chose to train the top 2 inception blocks, i.e. we will freeze\n",
    "# the first 249 layers and unfreeze the rest:\n",
    "for layer in model.layers[:249]:\n",
    "    layer.trainable = False\n",
    "for layer in model.layers[249:]:\n",
    "    layer.trainable = True\n",
    "\n",
    "# we need to recompile the model for these modifications to take effect\n",
    "# we use SGD with a low learning rate\n",
    "from keras.optimizers import SGD\n",
    "model.compile(optimizer=SGD(lr=0.0001, momentum=0.9), loss='categorical_crossentropy',metrics=['accuracy'])\n",
    "\n",
    "# we train our model again (this time fine-tuning the top 2 inception blocks\n",
    "# alongside the top Dense layers\n",
    "fashion_model=model.fit_generator(datagen.flow(train_X, train_label, batch_size=batch_size), validation_data=(valid_X, valid_label), steps_per_epoch=len(train_X) / batch_size, epochs=epochs)\n",
    "\n"
   ]
  },
  {
   "cell_type": "code",
   "execution_count": 16,
   "metadata": {},
   "outputs": [],
   "source": [
    "model.save(\"aws_inceptionv3_model_cc.h5py\")"
   ]
  },
  {
   "cell_type": "markdown",
   "metadata": {},
   "source": [
    "# 6 Evaluation"
   ]
  },
  {
   "cell_type": "code",
   "execution_count": 17,
   "metadata": {},
   "outputs": [
    {
     "name": "stdout",
     "output_type": "stream",
     "text": [
      "264/264 [==============================] - 25s 94ms/step\n",
      "Test loss: 0.7025391694271204\n",
      "Test accuracy: 0.5303030303030303\n"
     ]
    }
   ],
   "source": [
    "test_eval = model.evaluate(test_X, test_Y_one_hot, verbose=1)\n",
    "\n",
    "print('Test loss:', test_eval[0])\n",
    "print('Test accuracy:', test_eval[1])"
   ]
  },
  {
   "cell_type": "code",
   "execution_count": 20,
   "metadata": {},
   "outputs": [
    {
     "data": {
      "image/png": "[encoded data removed]",
      "text/plain": [
       "<matplotlib.figure.Figure at 0x7fc39892d588>"
      ]
     },
     "metadata": {},
     "output_type": "display_data"
    },
    {
     "data": {
      "image/png": "[encoded data removed]",
      "text/plain": [
       "<matplotlib.figure.Figure at 0x7fc3989dc780>"
      ]
     },
     "metadata": {},
     "output_type": "display_data"
    }
   ],
   "source": [
    "accuracy = fashion_model.history['acc']\n",
    "val_accuracy = fashion_model.history['val_acc']\n",
    "loss = fashion_model.history['loss']\n",
    "val_loss = fashion_model.history['val_loss']\n",
    "epochs = range(len(accuracy))\n",
    "plt.plot(epochs, accuracy, 'bo', label='Training accuracy')\n",
    "plt.plot(epochs, val_accuracy, 'b', label='Validation accuracy')\n",
    "plt.title('Training and validation accuracy')\n",
    "plt.legend()\n",
    "plt.figure()\n",
    "plt.plot(epochs, loss, 'bo', label='Training loss')\n",
    "plt.plot(epochs, val_loss, 'b', label='Validation loss')\n",
    "plt.title('Training and validation loss')\n",
    "plt.legend()\n",
    "plt.show()"
   ]
  },
  {
   "cell_type": "code",
   "execution_count": 19,
   "metadata": {},
   "outputs": [
    {
     "name": "stdout",
     "output_type": "stream",
     "text": [
      "             precision    recall  f1-score   support\n",
      "\n",
      "    Class 0       0.51      0.78      0.62       128\n",
      "    Class 1       0.59      0.29      0.39       136\n",
      "\n",
      "avg / total       0.55      0.53      0.50       264\n",
      "\n"
     ]
    }
   ],
   "source": [
    "predicted_classes = model.predict(test_X)\n",
    "predicted_classes = np.argmax(np.round(predicted_classes),axis=1)\n",
    "\n",
    "from sklearn.metrics import classification_report\n",
    "target_names = [\"Class {}\".format(i) for i in range(num_classes)]\n",
    "print(classification_report(test_Y, predicted_classes, target_names=target_names))"
   ]
  }
 ],
 "metadata": {
  "kernelspec": {
   "display_name": "Environment (conda_tensorflow_p36)",
   "language": "python",
   "name": "conda_tensorflow_p36"
  },
  "language_info": {
   "codemirror_mode": {
    "name": "ipython",
    "version": 3
   },
   "file_extension": ".py",
   "mimetype": "text/x-python",
   "name": "python",
   "nbconvert_exporter": "python",
   "pygments_lexer": "ipython3",
   "version": "3.6.3"
  }
 },
 "nbformat": 4,
 "nbformat_minor": 2
}
